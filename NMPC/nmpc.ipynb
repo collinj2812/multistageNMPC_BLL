{
 "cells": [
  {
   "cell_type": "markdown",
   "metadata": {},
   "source": [
    "# Data-based models for NMPC"
   ]
  },
  {
   "cell_type": "markdown",
   "metadata": {
    "vscode": {
     "languageId": "plaintext"
    }
   },
   "source": [
    "Implementation of the robust multi-stage NMPC algorithm using do-mpc. The simulator uses the \"true\" physical MSMPR model. For the controller model, two different data-based model functions are defined for the standard NN and NN with BLL."
   ]
  },
  {
   "cell_type": "code",
   "execution_count": 3,
   "metadata": {},
   "outputs": [],
   "source": [
    "import numpy as np\n",
    "import casadi as ca\n",
    "import do_mpc\n",
    "import matplotlib.pyplot as plt\n",
    "import pickle\n",
    "import sys\n",
    "import os\n",
    "import time\n",
    "\n",
    "import databasedmodel\n",
    "import simulator\n",
    "import mpc\n",
    "\n",
    "sys.path.append('./../Data generation')\n",
    "import model\n",
    "import functions_MSMPR\n",
    "\n",
    "sys.path.append('./../System identification/BLL')\n",
    "sys.path.append('./../System identification')\n",
    "import tools\n",
    "import functions"
   ]
  },
  {
   "cell_type": "markdown",
   "metadata": {},
   "source": [
    "Load data-based models"
   ]
  },
  {
   "cell_type": "code",
   "execution_count": 5,
   "metadata": {},
   "outputs": [],
   "source": [
    "fileo = open('./../System identification/model_bll_500.pkl', 'rb')\n",
    "BLL_layer1_w0 = pickle.load(fileo)\n",
    "BLL_layer1_w1 = pickle.load(fileo)\n",
    "BLL_layer2_w0 = pickle.load(fileo)\n",
    "BLL_layer2_w1 = pickle.load(fileo)\n",
    "BLL_layer3_w0 = pickle.load(fileo)\n",
    "BLL_layer3_w1 = pickle.load(fileo)\n",
    "BLL_Sigma_p_bar = pickle.load(fileo)\n",
    "BLL_log_sigma_e = pickle.load(fileo)\n",
    "BLL_scaler_NN_x_scale = pickle.load(fileo)\n",
    "BLL_scaler_NN_x_mean = pickle.load(fileo)\n",
    "BLL_scaler_NN_y_scale = pickle.load(fileo)\n",
    "BLL_scaler_NN_y_mean = pickle.load(fileo)\n",
    "BLL_scaler_BLL_x_scale = pickle.load(fileo)\n",
    "BLL_scaler_BLL_x_mean = pickle.load(fileo)\n",
    "BLL_scaler_BLL_y_scale = pickle.load(fileo)\n",
    "BLL_scaler_BLL_y_mean = pickle.load(fileo)\n",
    "fileo.close()\n",
    "\n",
    "fileo = open('./../System identification/model_NN_500.pkl', 'rb')\n",
    "NN_layer1_w0 = pickle.load(fileo)\n",
    "NN_layer1_w1 = pickle.load(fileo)\n",
    "NN_layer2_w0 = pickle.load(fileo)\n",
    "NN_layer2_w1 = pickle.load(fileo)\n",
    "NN_layer3_w0 = pickle.load(fileo)\n",
    "NN_layer3_w1 = pickle.load(fileo)\n",
    "NN_scaler_NN_x_scale = pickle.load(fileo)\n",
    "NN_scaler_NN_x_mean = pickle.load(fileo)\n",
    "NN_scaler_NN_y_scale = pickle.load(fileo)\n",
    "NN_scaler_NN_y_mean = pickle.load(fileo)\n",
    "fileo.close()"
   ]
  },
  {
   "cell_type": "code",
   "execution_count": 9,
   "metadata": {},
   "outputs": [],
   "source": [
    "fileo = open('./../System identification/model_bll_500.pkl', 'rb')\n",
    "model_BLL = pickle.load(fileo)\n",
    "Sigma_p_bar = pickle.load(fileo)\n",
    "log_sigma_e = pickle.load(fileo)\n",
    "scaler_BLL = pickle.load(fileo)\n",
    "scaler_NN = pickle.load(fileo)\n",
    "fileo.close()\n",
    "\n",
    "fileo = open('./../System identification/model_NN_500.pkl', 'rb')\n",
    "model_NN = pickle.load(fileo)\n",
    "scaler_NN = pickle.load(fileo)\n",
    "fileo.close()"
   ]
  },
  {
   "cell_type": "code",
   "execution_count": 7,
   "metadata": {},
   "outputs": [],
   "source": [
    "import importlib"
   ]
  },
  {
   "cell_type": "code",
   "execution_count": 27,
   "metadata": {},
   "outputs": [
    {
     "data": {
      "text/plain": [
       "<module 'mpc' from 'c:\\\\Users\\\\smcojohn\\\\Documents\\\\GitHub\\\\multistageNMPC_BLL\\\\NMPC\\\\mpc.py'>"
      ]
     },
     "execution_count": 27,
     "metadata": {},
     "output_type": "execute_result"
    }
   ],
   "source": [
    "importlib.reload(databasedmodel)\n",
    "importlib.reload(mpc)"
   ]
  },
  {
   "cell_type": "code",
   "execution_count": 28,
   "metadata": {},
   "outputs": [
    {
     "ename": "Exception",
     "evalue": "Error occured in struct context with powerIndex ('_x', 0, 0), at canonicalIndex ()",
     "output_type": "error",
     "traceback": [
      "\u001b[1;31m---------------------------------------------------------------------------\u001b[0m",
      "\u001b[1;31mRuntimeError\u001b[0m                              Traceback (most recent call last)",
      "\u001b[1;32mc:\\Users\\smcojohn\\AppData\\Local\\miniconda3\\lib\\site-packages\\casadi\\tools\\structure3.py\u001b[0m in \u001b[0;36m?\u001b[1;34m(self, payload, canonicalIndex, extraIndex, entry)\u001b[0m\n\u001b[0;32m    614\u001b[0m         \u001b[1;32mraise\u001b[0m \u001b[0mCompatibilityException\u001b[0m\u001b[1;33m(\u001b[0m\u001b[1;34m\"Error in canonicalIndex slicing for %s: Incompatible types in a[i]=b with a %s (%s) and b %s (%s) and i %s (%s). Error: %s\"\u001b[0m \u001b[1;33m%\u001b[0m \u001b[1;33m(\u001b[0m\u001b[0mstr\u001b[0m\u001b[1;33m(\u001b[0m\u001b[0mcanonicalIndex\u001b[0m\u001b[1;33m)\u001b[0m\u001b[1;33m,\u001b[0m\u001b[0mstr\u001b[0m\u001b[1;33m(\u001b[0m\u001b[0mself\u001b[0m\u001b[1;33m.\u001b[0m\u001b[0mmaster\u001b[0m\u001b[1;33m)\u001b[0m\u001b[1;33m,\u001b[0m\u001b[0mstr\u001b[0m\u001b[1;33m(\u001b[0m\u001b[0mbuiltins\u001b[0m\u001b[1;33m.\u001b[0m\u001b[0mtype\u001b[0m\u001b[1;33m(\u001b[0m\u001b[0mself\u001b[0m\u001b[1;33m.\u001b[0m\u001b[0mmaster\u001b[0m\u001b[1;33m)\u001b[0m\u001b[1;33m)\u001b[0m\u001b[1;33m,\u001b[0m\u001b[0mstr\u001b[0m\u001b[1;33m(\u001b[0m\u001b[0mpayload\u001b[0m\u001b[1;33m)\u001b[0m\u001b[1;33m,\u001b[0m\u001b[0mstr\u001b[0m\u001b[1;33m(\u001b[0m\u001b[0mbuiltins\u001b[0m\u001b[1;33m.\u001b[0m\u001b[0mtype\u001b[0m\u001b[1;33m(\u001b[0m\u001b[0mpayload\u001b[0m\u001b[1;33m)\u001b[0m\u001b[1;33m)\u001b[0m\u001b[1;33m,\u001b[0m\u001b[0mstr\u001b[0m\u001b[1;33m(\u001b[0m\u001b[0mi\u001b[0m\u001b[1;33m)\u001b[0m\u001b[1;33m,\u001b[0m\u001b[0mstr\u001b[0m\u001b[1;33m(\u001b[0m\u001b[0mbuiltins\u001b[0m\u001b[1;33m.\u001b[0m\u001b[0mtype\u001b[0m\u001b[1;33m(\u001b[0m\u001b[0mi\u001b[0m\u001b[1;33m)\u001b[0m\u001b[1;33m)\u001b[0m\u001b[1;33m,\u001b[0m\u001b[0mstr\u001b[0m\u001b[1;33m(\u001b[0m\u001b[0me\u001b[0m\u001b[1;33m)\u001b[0m\u001b[1;33m)\u001b[0m\u001b[1;33m)\u001b[0m\u001b[1;33m\u001b[0m\u001b[1;33m\u001b[0m\u001b[0m\n\u001b[0;32m    615\u001b[0m       \u001b[1;32mexcept\u001b[0m \u001b[0mException\u001b[0m \u001b[1;32mas\u001b[0m \u001b[0me\u001b[0m\u001b[1;33m:\u001b[0m\u001b[1;33m\u001b[0m\u001b[1;33m\u001b[0m\u001b[0m\n\u001b[1;32m--> 616\u001b[1;33m         \u001b[1;32mraise\u001b[0m \u001b[0mException\u001b[0m\u001b[1;33m(\u001b[0m\u001b[1;34m\"Error in powerIndex slicing for canonicalIndex %s\"\u001b[0m \u001b[1;33m%\u001b[0m \u001b[1;33m(\u001b[0m\u001b[0mstr\u001b[0m\u001b[1;33m(\u001b[0m\u001b[0mcanonicalIndex\u001b[0m\u001b[1;33m)\u001b[0m\u001b[1;33m)\u001b[0m\u001b[1;33m)\u001b[0m \u001b[1;32mfrom\u001b[0m \u001b[0me\u001b[0m\u001b[1;33m\u001b[0m\u001b[1;33m\u001b[0m\u001b[0m\n\u001b[0m\u001b[0;32m    617\u001b[0m     \u001b[1;32melse\u001b[0m\u001b[1;33m:\u001b[0m\u001b[1;33m\u001b[0m\u001b[1;33m\u001b[0m\u001b[0m\n",
      "\u001b[1;32mc:\\Users\\smcojohn\\AppData\\Local\\miniconda3\\lib\\site-packages\\casadi\\casadi.py\u001b[0m in \u001b[0;36m?\u001b[1;34m(self, s, val)\u001b[0m\n\u001b[0;32m  10921\u001b[0m           \u001b[1;32mif\u001b[0m \u001b[0misinstance\u001b[0m\u001b[1;33m(\u001b[0m\u001b[0ms\u001b[0m\u001b[1;33m,\u001b[0m\u001b[0mtuple\u001b[0m\u001b[1;33m)\u001b[0m \u001b[1;32mand\u001b[0m \u001b[0mlen\u001b[0m\u001b[1;33m(\u001b[0m\u001b[0ms\u001b[0m\u001b[1;33m)\u001b[0m\u001b[1;33m==\u001b[0m\u001b[1;36m2\u001b[0m\u001b[1;33m:\u001b[0m\u001b[1;33m\u001b[0m\u001b[1;33m\u001b[0m\u001b[0m\n\u001b[0;32m  10922\u001b[0m             \u001b[1;32mreturn\u001b[0m \u001b[0mself\u001b[0m\u001b[1;33m.\u001b[0m\u001b[0mset\u001b[0m\u001b[1;33m(\u001b[0m\u001b[0mval\u001b[0m\u001b[1;33m,\u001b[0m \u001b[1;32mFalse\u001b[0m\u001b[1;33m,\u001b[0m \u001b[0ms\u001b[0m\u001b[1;33m[\u001b[0m\u001b[1;36m0\u001b[0m\u001b[1;33m]\u001b[0m\u001b[1;33m,\u001b[0m \u001b[0ms\u001b[0m\u001b[1;33m[\u001b[0m\u001b[1;36m1\u001b[0m\u001b[1;33m]\u001b[0m\u001b[1;33m)\u001b[0m\u001b[1;33m\u001b[0m\u001b[1;33m\u001b[0m\u001b[0m\n\u001b[1;32m> 10923\u001b[1;33m           \u001b[1;32mreturn\u001b[0m \u001b[0mself\u001b[0m\u001b[1;33m.\u001b[0m\u001b[0mset\u001b[0m\u001b[1;33m(\u001b[0m\u001b[0mval\u001b[0m\u001b[1;33m,\u001b[0m \u001b[1;32mFalse\u001b[0m\u001b[1;33m,\u001b[0m \u001b[0ms\u001b[0m\u001b[1;33m)\u001b[0m\u001b[1;33m\u001b[0m\u001b[1;33m\u001b[0m\u001b[0m\n\u001b[0m",
      "\u001b[1;32mc:\\Users\\smcojohn\\AppData\\Local\\miniconda3\\lib\\site-packages\\casadi\\casadi.py\u001b[0m in \u001b[0;36m?\u001b[1;34m(self, *args)\u001b[0m\n\u001b[0;32m   9343\u001b[0m \u001b[1;33m\u001b[0m\u001b[0m\n\u001b[0;32m   9344\u001b[0m         \"\"\"\n\u001b[1;32m-> 9345\u001b[1;33m         \u001b[1;32mreturn\u001b[0m \u001b[0m_casadi\u001b[0m\u001b[1;33m.\u001b[0m\u001b[0mDM_set\u001b[0m\u001b[1;33m(\u001b[0m\u001b[0mself\u001b[0m\u001b[1;33m,\u001b[0m \u001b[1;33m*\u001b[0m\u001b[0margs\u001b[0m\u001b[1;33m)\u001b[0m\u001b[1;33m\u001b[0m\u001b[1;33m\u001b[0m\u001b[0m\n\u001b[0m",
      "\u001b[1;31mRuntimeError\u001b[0m: .../casadi/core/matrix_impl.hpp:334: Dimension mismatch. lhs is [7,1], while rhs is [8,1]",
      "\nThe above exception was the direct cause of the following exception:\n",
      "\u001b[1;31mException\u001b[0m                                 Traceback (most recent call last)",
      "File \u001b[1;32mc:\\Users\\smcojohn\\AppData\\Local\\miniconda3\\lib\\site-packages\\casadi\\tools\\structure3.py:218\u001b[0m, in \u001b[0;36mStructEntry.traverseByPowerIndex\u001b[1;34m(self, powerIndex, dims, canonicalIndex, dispatcher, payload)\u001b[0m\n\u001b[0;32m    217\u001b[0m   \u001b[39melse\u001b[39;00m:\n\u001b[1;32m--> 218\u001b[0m     \u001b[39mreturn\u001b[39;00m dispatcher(payload,canonicalIndex,entry\u001b[39m=\u001b[39;49m\u001b[39mself\u001b[39;49m)\n\u001b[0;32m    220\u001b[0m \u001b[39mif\u001b[39;00m \u001b[39mlen\u001b[39m(dims)\u001b[39m==\u001b[39m\u001b[39m0\u001b[39m:\n",
      "File \u001b[1;32mc:\\Users\\smcojohn\\AppData\\Local\\miniconda3\\lib\\site-packages\\casadi\\tools\\structure3.py:616\u001b[0m, in \u001b[0;36mSetterDispatcher.__call__\u001b[1;34m(self, payload, canonicalIndex, extraIndex, entry)\u001b[0m\n\u001b[0;32m    615\u001b[0m   \u001b[39mexcept\u001b[39;00m \u001b[39mException\u001b[39;00m \u001b[39mas\u001b[39;00m e:\n\u001b[1;32m--> 616\u001b[0m     \u001b[39mraise\u001b[39;00m \u001b[39mException\u001b[39;00m(\u001b[39m\"\u001b[39m\u001b[39mError in powerIndex slicing for canonicalIndex \u001b[39m\u001b[39m%s\u001b[39;00m\u001b[39m\"\u001b[39m \u001b[39m%\u001b[39m (\u001b[39mstr\u001b[39m(canonicalIndex))) \u001b[39mfrom\u001b[39;00m \u001b[39me\u001b[39;00m\n\u001b[0;32m    617\u001b[0m \u001b[39melse\u001b[39;00m:\n",
      "\u001b[1;31mException\u001b[0m: Error in powerIndex slicing for canonicalIndex ('_x', 0, 0, 0)",
      "\nThe above exception was the direct cause of the following exception:\n",
      "\u001b[1;31mException\u001b[0m                                 Traceback (most recent call last)",
      "File \u001b[1;32mc:\\Users\\smcojohn\\AppData\\Local\\miniconda3\\lib\\site-packages\\casadi\\tools\\structure3.py:244\u001b[0m, in \u001b[0;36mStructEntry.traverseByPowerIndex\u001b[1;34m(self, powerIndex, dims, canonicalIndex, dispatcher, payload)\u001b[0m\n\u001b[0;32m    243\u001b[0m \u001b[39melif\u001b[39;00m \u001b[39misinstance\u001b[39m(p,\u001b[39mlist\u001b[39m):\n\u001b[1;32m--> 244\u001b[0m   \u001b[39mreturn\u001b[39;00m [\n\u001b[0;32m    245\u001b[0m             \u001b[39mself\u001b[39m\u001b[39m.\u001b[39mtraverseByPowerIndex(\n\u001b[0;32m    246\u001b[0m               powerIndex[\u001b[39m1\u001b[39m:],\n\u001b[0;32m    247\u001b[0m               dims\u001b[39m=\u001b[39mdims[\u001b[39m1\u001b[39m:],\n\u001b[0;32m    248\u001b[0m               canonicalIndex\u001b[39m=\u001b[39mcanonicalIndex\u001b[39m+\u001b[39m(canonical(i,s),),\n\u001b[0;32m    249\u001b[0m               dispatcher\u001b[39m=\u001b[39mdispatcher,\n\u001b[0;32m    250\u001b[0m               payload \u001b[39m=\u001b[39m payloadUnpack(payload,i)\n\u001b[0;32m    251\u001b[0m             )\n\u001b[0;32m    252\u001b[0m          \u001b[39mfor\u001b[39;00m i \u001b[39min\u001b[39;00m p]\n\u001b[0;32m    253\u001b[0m \u001b[39melif\u001b[39;00m \u001b[39misinstance\u001b[39m(p,\u001b[39mdict\u001b[39m):\n",
      "File \u001b[1;32mc:\\Users\\smcojohn\\AppData\\Local\\miniconda3\\lib\\site-packages\\casadi\\tools\\structure3.py:245\u001b[0m, in \u001b[0;36m<listcomp>\u001b[1;34m(.0)\u001b[0m\n\u001b[0;32m    243\u001b[0m \u001b[39melif\u001b[39;00m \u001b[39misinstance\u001b[39m(p,\u001b[39mlist\u001b[39m):\n\u001b[0;32m    244\u001b[0m   \u001b[39mreturn\u001b[39;00m [\n\u001b[1;32m--> 245\u001b[0m             \u001b[39mself\u001b[39;49m\u001b[39m.\u001b[39;49mtraverseByPowerIndex(\n\u001b[0;32m    246\u001b[0m               powerIndex[\u001b[39m1\u001b[39;49m:],\n\u001b[0;32m    247\u001b[0m               dims\u001b[39m=\u001b[39;49mdims[\u001b[39m1\u001b[39;49m:],\n\u001b[0;32m    248\u001b[0m               canonicalIndex\u001b[39m=\u001b[39;49mcanonicalIndex\u001b[39m+\u001b[39;49m(canonical(i,s),),\n\u001b[0;32m    249\u001b[0m               dispatcher\u001b[39m=\u001b[39;49mdispatcher,\n\u001b[0;32m    250\u001b[0m               payload \u001b[39m=\u001b[39;49m payloadUnpack(payload,i)\n\u001b[0;32m    251\u001b[0m             )\n\u001b[0;32m    252\u001b[0m          \u001b[39mfor\u001b[39;00m i \u001b[39min\u001b[39;00m p]\n\u001b[0;32m    253\u001b[0m \u001b[39melif\u001b[39;00m \u001b[39misinstance\u001b[39m(p,\u001b[39mdict\u001b[39m):\n",
      "File \u001b[1;32mc:\\Users\\smcojohn\\AppData\\Local\\miniconda3\\lib\\site-packages\\casadi\\tools\\structure3.py:279\u001b[0m, in \u001b[0;36mStructEntry.traverseByPowerIndex\u001b[1;34m(self, powerIndex, dims, canonicalIndex, dispatcher, payload)\u001b[0m\n\u001b[0;32m    278\u001b[0m \u001b[39mexcept\u001b[39;00m \u001b[39mException\u001b[39;00m \u001b[39mas\u001b[39;00m e:\n\u001b[1;32m--> 279\u001b[0m   \u001b[39mraise\u001b[39;00m \u001b[39mException\u001b[39;00m(\u001b[39m\"\u001b[39m\u001b[39mError occured in entry context with powerIndex \u001b[39m\u001b[39m%s\u001b[39;00m\u001b[39m, at canonicalIndex \u001b[39m\u001b[39m%s\u001b[39;00m\u001b[39m\"\u001b[39m \u001b[39m%\u001b[39m (\u001b[39mstr\u001b[39m(powerIndex),\u001b[39mstr\u001b[39m(canonicalIndex))) \u001b[39mfrom\u001b[39;00m \u001b[39me\u001b[39;00m\n",
      "\u001b[1;31mException\u001b[0m: Error occured in entry context with powerIndex [], at canonicalIndex ('_x', 0, 0, 0)",
      "\nThe above exception was the direct cause of the following exception:\n",
      "\u001b[1;31mException\u001b[0m                                 Traceback (most recent call last)",
      "File \u001b[1;32mc:\\Users\\smcojohn\\AppData\\Local\\miniconda3\\lib\\site-packages\\casadi\\tools\\structure3.py:210\u001b[0m, in \u001b[0;36mStructEntry.traverseByPowerIndex\u001b[1;34m(self, powerIndex, dims, canonicalIndex, dispatcher, payload)\u001b[0m\n\u001b[0;32m    209\u001b[0m \u001b[39mif\u001b[39;00m \u001b[39mlen\u001b[39m(dims)\u001b[39m>\u001b[39m\u001b[39m0\u001b[39m:\n\u001b[1;32m--> 210\u001b[0m   \u001b[39mreturn\u001b[39;00m \u001b[39mself\u001b[39;49m\u001b[39m.\u001b[39;49mtraverseByPowerIndex(\n\u001b[0;32m    211\u001b[0m            [\u001b[39mslice\u001b[39;49m(\u001b[39mNone\u001b[39;49;00m) \u001b[39mfor\u001b[39;49;00m i \u001b[39min\u001b[39;49;00m dims],\n\u001b[0;32m    212\u001b[0m            dims\u001b[39m=\u001b[39;49mdims,\n\u001b[0;32m    213\u001b[0m            canonicalIndex\u001b[39m=\u001b[39;49mcanonicalIndex,\n\u001b[0;32m    214\u001b[0m            dispatcher\u001b[39m=\u001b[39;49mdispatcher,\n\u001b[0;32m    215\u001b[0m            payload\u001b[39m=\u001b[39;49mpayload\n\u001b[0;32m    216\u001b[0m          )\n\u001b[0;32m    217\u001b[0m \u001b[39melse\u001b[39;00m:\n",
      "File \u001b[1;32mc:\\Users\\smcojohn\\AppData\\Local\\miniconda3\\lib\\site-packages\\casadi\\tools\\structure3.py:279\u001b[0m, in \u001b[0;36mStructEntry.traverseByPowerIndex\u001b[1;34m(self, powerIndex, dims, canonicalIndex, dispatcher, payload)\u001b[0m\n\u001b[0;32m    278\u001b[0m \u001b[39mexcept\u001b[39;00m \u001b[39mException\u001b[39;00m \u001b[39mas\u001b[39;00m e:\n\u001b[1;32m--> 279\u001b[0m   \u001b[39mraise\u001b[39;00m \u001b[39mException\u001b[39;00m(\u001b[39m\"\u001b[39m\u001b[39mError occured in entry context with powerIndex \u001b[39m\u001b[39m%s\u001b[39;00m\u001b[39m, at canonicalIndex \u001b[39m\u001b[39m%s\u001b[39;00m\u001b[39m\"\u001b[39m \u001b[39m%\u001b[39m (\u001b[39mstr\u001b[39m(powerIndex),\u001b[39mstr\u001b[39m(canonicalIndex))) \u001b[39mfrom\u001b[39;00m \u001b[39me\u001b[39;00m\n",
      "\u001b[1;31mException\u001b[0m: Error occured in entry context with powerIndex [slice(None, None, None)], at canonicalIndex ('_x', 0, 0)",
      "\nThe above exception was the direct cause of the following exception:\n",
      "\u001b[1;31mException\u001b[0m                                 Traceback (most recent call last)",
      "File \u001b[1;32mc:\\Users\\smcojohn\\AppData\\Local\\miniconda3\\lib\\site-packages\\casadi\\tools\\structure3.py:236\u001b[0m, in \u001b[0;36mStructEntry.traverseByPowerIndex\u001b[1;34m(self, powerIndex, dims, canonicalIndex, dispatcher, payload)\u001b[0m\n\u001b[0;32m    235\u001b[0m \u001b[39mif\u001b[39;00m is_integer(p):\n\u001b[1;32m--> 236\u001b[0m   \u001b[39mreturn\u001b[39;00m \u001b[39mself\u001b[39;49m\u001b[39m.\u001b[39;49mtraverseByPowerIndex(\n\u001b[0;32m    237\u001b[0m            powerIndex[\u001b[39m1\u001b[39;49m:],\n\u001b[0;32m    238\u001b[0m            dims\u001b[39m=\u001b[39;49mdims[\u001b[39m1\u001b[39;49m:],\n\u001b[0;32m    239\u001b[0m            canonicalIndex\u001b[39m=\u001b[39;49mcanonicalIndex\u001b[39m+\u001b[39;49m(canonical(p,s),),\n\u001b[0;32m    240\u001b[0m            dispatcher\u001b[39m=\u001b[39;49mdispatcher,\n\u001b[0;32m    241\u001b[0m            payload\u001b[39m=\u001b[39;49mpayload\n\u001b[0;32m    242\u001b[0m          )\n\u001b[0;32m    243\u001b[0m \u001b[39melif\u001b[39;00m \u001b[39misinstance\u001b[39m(p,\u001b[39mlist\u001b[39m):\n",
      "File \u001b[1;32mc:\\Users\\smcojohn\\AppData\\Local\\miniconda3\\lib\\site-packages\\casadi\\tools\\structure3.py:279\u001b[0m, in \u001b[0;36mStructEntry.traverseByPowerIndex\u001b[1;34m(self, powerIndex, dims, canonicalIndex, dispatcher, payload)\u001b[0m\n\u001b[0;32m    278\u001b[0m \u001b[39mexcept\u001b[39;00m \u001b[39mException\u001b[39;00m \u001b[39mas\u001b[39;00m e:\n\u001b[1;32m--> 279\u001b[0m   \u001b[39mraise\u001b[39;00m \u001b[39mException\u001b[39;00m(\u001b[39m\"\u001b[39m\u001b[39mError occured in entry context with powerIndex \u001b[39m\u001b[39m%s\u001b[39;00m\u001b[39m, at canonicalIndex \u001b[39m\u001b[39m%s\u001b[39;00m\u001b[39m\"\u001b[39m \u001b[39m%\u001b[39m (\u001b[39mstr\u001b[39m(powerIndex),\u001b[39mstr\u001b[39m(canonicalIndex))) \u001b[39mfrom\u001b[39;00m \u001b[39me\u001b[39;00m\n",
      "\u001b[1;31mException\u001b[0m: Error occured in entry context with powerIndex (), at canonicalIndex ('_x', 0, 0)",
      "\nThe above exception was the direct cause of the following exception:\n",
      "\u001b[1;31mException\u001b[0m                                 Traceback (most recent call last)",
      "File \u001b[1;32mc:\\Users\\smcojohn\\AppData\\Local\\miniconda3\\lib\\site-packages\\casadi\\tools\\structure3.py:236\u001b[0m, in \u001b[0;36mStructEntry.traverseByPowerIndex\u001b[1;34m(self, powerIndex, dims, canonicalIndex, dispatcher, payload)\u001b[0m\n\u001b[0;32m    235\u001b[0m \u001b[39mif\u001b[39;00m is_integer(p):\n\u001b[1;32m--> 236\u001b[0m   \u001b[39mreturn\u001b[39;00m \u001b[39mself\u001b[39;49m\u001b[39m.\u001b[39;49mtraverseByPowerIndex(\n\u001b[0;32m    237\u001b[0m            powerIndex[\u001b[39m1\u001b[39;49m:],\n\u001b[0;32m    238\u001b[0m            dims\u001b[39m=\u001b[39;49mdims[\u001b[39m1\u001b[39;49m:],\n\u001b[0;32m    239\u001b[0m            canonicalIndex\u001b[39m=\u001b[39;49mcanonicalIndex\u001b[39m+\u001b[39;49m(canonical(p,s),),\n\u001b[0;32m    240\u001b[0m            dispatcher\u001b[39m=\u001b[39;49mdispatcher,\n\u001b[0;32m    241\u001b[0m            payload\u001b[39m=\u001b[39;49mpayload\n\u001b[0;32m    242\u001b[0m          )\n\u001b[0;32m    243\u001b[0m \u001b[39melif\u001b[39;00m \u001b[39misinstance\u001b[39m(p,\u001b[39mlist\u001b[39m):\n",
      "File \u001b[1;32mc:\\Users\\smcojohn\\AppData\\Local\\miniconda3\\lib\\site-packages\\casadi\\tools\\structure3.py:279\u001b[0m, in \u001b[0;36mStructEntry.traverseByPowerIndex\u001b[1;34m(self, powerIndex, dims, canonicalIndex, dispatcher, payload)\u001b[0m\n\u001b[0;32m    278\u001b[0m \u001b[39mexcept\u001b[39;00m \u001b[39mException\u001b[39;00m \u001b[39mas\u001b[39;00m e:\n\u001b[1;32m--> 279\u001b[0m   \u001b[39mraise\u001b[39;00m \u001b[39mException\u001b[39;00m(\u001b[39m\"\u001b[39m\u001b[39mError occured in entry context with powerIndex \u001b[39m\u001b[39m%s\u001b[39;00m\u001b[39m, at canonicalIndex \u001b[39m\u001b[39m%s\u001b[39;00m\u001b[39m\"\u001b[39m \u001b[39m%\u001b[39m (\u001b[39mstr\u001b[39m(powerIndex),\u001b[39mstr\u001b[39m(canonicalIndex))) \u001b[39mfrom\u001b[39;00m \u001b[39me\u001b[39;00m\n",
      "\u001b[1;31mException\u001b[0m: Error occured in entry context with powerIndex (0,), at canonicalIndex ('_x', 0)",
      "\nThe above exception was the direct cause of the following exception:\n",
      "\u001b[1;31mException\u001b[0m                                 Traceback (most recent call last)",
      "File \u001b[1;32mc:\\Users\\smcojohn\\AppData\\Local\\miniconda3\\lib\\site-packages\\casadi\\tools\\structure3.py:349\u001b[0m, in \u001b[0;36mStructure.traverseByPowerIndex\u001b[1;34m(self, powerIndex, canonicalIndex, dispatcher, payload)\u001b[0m\n\u001b[0;32m    348\u001b[0m \u001b[39mif\u001b[39;00m is_string(p):\n\u001b[1;32m--> 349\u001b[0m   \u001b[39mreturn\u001b[39;00m \u001b[39mself\u001b[39;49m\u001b[39m.\u001b[39;49mdict[p]\u001b[39m.\u001b[39;49mtraverseByPowerIndex(\n\u001b[0;32m    350\u001b[0m     powerIndex[\u001b[39m1\u001b[39;49m:],\n\u001b[0;32m    351\u001b[0m     canonicalIndex\u001b[39m=\u001b[39;49mcanonicalIndex\u001b[39m+\u001b[39;49m(p,),\n\u001b[0;32m    352\u001b[0m     dispatcher\u001b[39m=\u001b[39;49mdispatcher,\n\u001b[0;32m    353\u001b[0m     payload\u001b[39m=\u001b[39;49mpayload\n\u001b[0;32m    354\u001b[0m   )\n\u001b[0;32m    355\u001b[0m \u001b[39melif\u001b[39;00m \u001b[39misinstance\u001b[39m(p,\u001b[39mslice\u001b[39m):\n",
      "File \u001b[1;32mc:\\Users\\smcojohn\\AppData\\Local\\miniconda3\\lib\\site-packages\\casadi\\tools\\structure3.py:279\u001b[0m, in \u001b[0;36mStructEntry.traverseByPowerIndex\u001b[1;34m(self, powerIndex, dims, canonicalIndex, dispatcher, payload)\u001b[0m\n\u001b[0;32m    278\u001b[0m \u001b[39mexcept\u001b[39;00m \u001b[39mException\u001b[39;00m \u001b[39mas\u001b[39;00m e:\n\u001b[1;32m--> 279\u001b[0m   \u001b[39mraise\u001b[39;00m \u001b[39mException\u001b[39;00m(\u001b[39m\"\u001b[39m\u001b[39mError occured in entry context with powerIndex \u001b[39m\u001b[39m%s\u001b[39;00m\u001b[39m, at canonicalIndex \u001b[39m\u001b[39m%s\u001b[39;00m\u001b[39m\"\u001b[39m \u001b[39m%\u001b[39m (\u001b[39mstr\u001b[39m(powerIndex),\u001b[39mstr\u001b[39m(canonicalIndex))) \u001b[39mfrom\u001b[39;00m \u001b[39me\u001b[39;00m\n",
      "\u001b[1;31mException\u001b[0m: Error occured in entry context with powerIndex (0, 0), at canonicalIndex ('_x',)",
      "\nThe above exception was the direct cause of the following exception:\n",
      "\u001b[1;31mException\u001b[0m                                 Traceback (most recent call last)",
      "\u001b[1;32mc:\\Users\\smcojohn\\Documents\\GitHub\\multistageNMPC_BLL\\NMPC\\nmpc.ipynb Cell 9\u001b[0m line \u001b[0;36m4\n\u001b[0;32m     <a href='vscode-notebook-cell:/c%3A/Users/smcojohn/Documents/GitHub/multistageNMPC_BLL/NMPC/nmpc.ipynb#W5sZmlsZQ%3D%3D?line=39'>40</a>\u001b[0m \u001b[39mfor\u001b[39;00m i \u001b[39min\u001b[39;00m \u001b[39mrange\u001b[39m(mpc_MSMPR\u001b[39m.\u001b[39msettings\u001b[39m.\u001b[39mn_horizon\u001b[39m+\u001b[39m\u001b[39m1\u001b[39m):\n\u001b[0;32m     <a href='vscode-notebook-cell:/c%3A/Users/smcojohn/Documents/GitHub/multistageNMPC_BLL/NMPC/nmpc.ipynb#W5sZmlsZQ%3D%3D?line=40'>41</a>\u001b[0m     \u001b[39mfor\u001b[39;00m b \u001b[39min\u001b[39;00m \u001b[39mrange\u001b[39m(mpc_MSMPR\u001b[39m.\u001b[39mn_combinations):\n\u001b[1;32m---> <a href='vscode-notebook-cell:/c%3A/Users/smcojohn/Documents/GitHub/multistageNMPC_BLL/NMPC/nmpc.ipynb#W5sZmlsZQ%3D%3D?line=41'>42</a>\u001b[0m         mpc_MSMPR\u001b[39m.\u001b[39;49mopt_x_num[\u001b[39m'\u001b[39;49m\u001b[39m_x\u001b[39;49m\u001b[39m'\u001b[39;49m,i,b] \u001b[39m=\u001b[39m ca\u001b[39m.\u001b[39mDM([\u001b[39m350\u001b[39m, \u001b[39m320\u001b[39m, \u001b[39m0.23\u001b[39m, \u001b[39m4e-4\u001b[39m, \u001b[39m0.2\u001b[39m, \u001b[39m1e0\u001b[39m, \u001b[39m1e-3\u001b[39m, \u001b[39m1e-6\u001b[39m])\n\u001b[0;32m     <a href='vscode-notebook-cell:/c%3A/Users/smcojohn/Documents/GitHub/multistageNMPC_BLL/NMPC/nmpc.ipynb#W5sZmlsZQ%3D%3D?line=42'>43</a>\u001b[0m         \u001b[39mif\u001b[39;00m i\u001b[39m<\u001b[39mmpc_MSMPR\u001b[39m.\u001b[39msettings\u001b[39m.\u001b[39mn_horizon:\n\u001b[0;32m     <a href='vscode-notebook-cell:/c%3A/Users/smcojohn/Documents/GitHub/multistageNMPC_BLL/NMPC/nmpc.ipynb#W5sZmlsZQ%3D%3D?line=43'>44</a>\u001b[0m             mpc_MSMPR\u001b[39m.\u001b[39mopt_x_num[\u001b[39m'\u001b[39m\u001b[39m_u\u001b[39m\u001b[39m'\u001b[39m,i,b] \u001b[39m=\u001b[39m ca\u001b[39m.\u001b[39mDM([\u001b[39m350\u001b[39m, \u001b[39m1.0\u001b[39m, \u001b[39m0.1\u001b[39m])\n",
      "File \u001b[1;32mc:\\Users\\smcojohn\\AppData\\Local\\miniconda3\\lib\\site-packages\\casadi\\tools\\structure3.py:123\u001b[0m, in \u001b[0;36mproperGetitem.<locals>.proper\u001b[1;34m(self, mbt, *args)\u001b[0m\n\u001b[0;32m    121\u001b[0m \u001b[39mif\u001b[39;00m \u001b[39mnot\u001b[39;00m \u001b[39misinstance\u001b[39m(mbt,\u001b[39mtuple\u001b[39m):\n\u001b[0;32m    122\u001b[0m   mbt \u001b[39m=\u001b[39m (mbt,)\n\u001b[1;32m--> 123\u001b[0m \u001b[39mreturn\u001b[39;00m f(\u001b[39mself\u001b[39;49m,mbt,\u001b[39m*\u001b[39;49margs)\n",
      "File \u001b[1;32mc:\\Users\\smcojohn\\AppData\\Local\\miniconda3\\lib\\site-packages\\casadi\\tools\\structure3.py:639\u001b[0m, in \u001b[0;36mMasterSettable.__setitem__\u001b[1;34m(self, powerIndex, value)\u001b[0m\n\u001b[0;32m    637\u001b[0m \u001b[39m@properGetitem\u001b[39m\n\u001b[0;32m    638\u001b[0m \u001b[39mdef\u001b[39;00m \u001b[39m__setitem__\u001b[39m(\u001b[39mself\u001b[39m,powerIndex,value):\n\u001b[1;32m--> 639\u001b[0m   \u001b[39mreturn\u001b[39;00m \u001b[39mself\u001b[39;49m\u001b[39m.\u001b[39;49mstruct\u001b[39m.\u001b[39;49mtraverseByPowerIndex(powerIndex,dispatcher\u001b[39m=\u001b[39;49m\n\u001b[0;32m    640\u001b[0m   SetterDispatcher(struct\u001b[39m=\u001b[39;49m\u001b[39mself\u001b[39;49m\u001b[39m.\u001b[39;49mstruct,master\u001b[39m=\u001b[39;49m\u001b[39mself\u001b[39;49m\u001b[39m.\u001b[39;49mmaster,mtype\u001b[39m=\u001b[39;49m\u001b[39mself\u001b[39;49m\u001b[39m.\u001b[39;49mmtype),payload\u001b[39m=\u001b[39;49mvalue)\n",
      "File \u001b[1;32mc:\\Users\\smcojohn\\AppData\\Local\\miniconda3\\lib\\site-packages\\casadi\\tools\\structure3.py:435\u001b[0m, in \u001b[0;36mStructure.traverseByPowerIndex\u001b[1;34m(self, powerIndex, canonicalIndex, dispatcher, payload)\u001b[0m\n\u001b[0;32m    433\u001b[0m     \u001b[39mraise\u001b[39;00m \u001b[39mException\u001b[39;00m(\u001b[39m\"\u001b[39m\u001b[39mI don\u001b[39m\u001b[39m'\u001b[39m\u001b[39mt know what to do with this: \u001b[39m\u001b[39m%s\u001b[39;00m\u001b[39m\"\u001b[39m \u001b[39m%\u001b[39m \u001b[39mstr\u001b[39m(p))\n\u001b[0;32m    434\u001b[0m \u001b[39mexcept\u001b[39;00m \u001b[39mException\u001b[39;00m \u001b[39mas\u001b[39;00m e:\n\u001b[1;32m--> 435\u001b[0m   \u001b[39mraise\u001b[39;00m \u001b[39mException\u001b[39;00m(\u001b[39m\"\u001b[39m\u001b[39mError occured in struct context with powerIndex \u001b[39m\u001b[39m%s\u001b[39;00m\u001b[39m, at canonicalIndex \u001b[39m\u001b[39m%s\u001b[39;00m\u001b[39m\"\u001b[39m \u001b[39m%\u001b[39m (\u001b[39mstr\u001b[39m(powerIndex),\u001b[39mstr\u001b[39m(canonicalIndex))) \u001b[39mfrom\u001b[39;00m \u001b[39me\u001b[39;00m\n",
      "\u001b[1;31mException\u001b[0m: Error occured in struct context with powerIndex ('_x', 0, 0), at canonicalIndex ()"
     ]
    }
   ],
   "source": [
    "\n",
    "# Use NN with BLL or standard NN\n",
    "# ONNX transformation of models not yet implemented\n",
    "BLL = True\n",
    "if BLL:\n",
    "    BLL_sigma_e2 = np.exp(2*BLL_log_sigma_e)\n",
    "    param_databased = BLL_layer1_w0, BLL_layer1_w1, BLL_layer2_w0, BLL_layer2_w1, BLL_layer3_w0, BLL_layer3_w1, BLL_scaler_NN_x_scale, BLL_scaler_NN_x_mean, BLL_scaler_NN_y_scale, BLL_scaler_NN_y_mean, BLL_scaler_BLL_x_scale, BLL_scaler_BLL_x_mean, BLL_scaler_BLL_y_scale, BLL_scaler_BLL_y_mean, BLL_Sigma_p_bar, BLL_sigma_e2\n",
    "    model_databased = databasedmodel.model_MSMPR_BLL(param_databased)\n",
    "else:\n",
    "    param_databased = NN_layer1_w0, NN_layer1_w1, NN_layer2_w0, NN_layer2_w1, NN_layer3_w0, NN_layer3_w1, NN_scaler_NN_x_scale, NN_scaler_NN_x_mean, NN_scaler_NN_y_scale, NN_scaler_NN_y_mean\n",
    "    model_databased = databasedmodel.model_MSMPR_NN(param_databased)\n",
    "\n",
    "# Define parameters:\n",
    "w_seed = 0.02\n",
    "rho_cryst = 1432 # Density of crystals\n",
    "rho = 1043 # Density in crystallizer\n",
    "V = 10 # Volume of crystallizer\n",
    "kv = np.pi/6\n",
    "T_feed0 = 350\n",
    "c_feed0 = functions_MSMPR.solubility(T_feed0)\n",
    "\n",
    "\n",
    "# Define inital moments (based on exponential distribution)\n",
    "mu_initial = np.array([1.02921849e+08, 4.11772806e+04, 1.75005454e+01])\n",
    "\n",
    "cryst_param = mu_initial\n",
    "\n",
    "T_feed0 = 350\n",
    "c_feed0 = functions_MSMPR.solubility(T_feed0)\n",
    "param_MSMPR = {'rho_cryst':rho_cryst,'V':V,'rho':rho, 'T_feed':T_feed0, 'c_feed':c_feed0}\n",
    "\n",
    "model_MSMPR = model.model_MSMPR(cryst_param, param_MSMPR)\n",
    "\n",
    "simulator_MSMPR = simulator.simulator(model_MSMPR)\n",
    "mpc_MSMPR = mpc.mpc_MSMPR_data_based(model_databased, BLL) # data-based model\n",
    "\n",
    "# Set inital guess for MPC\n",
    "mpc_MSMPR.set_initial_guess()\n",
    "\n",
    "# Set initial guess for simulator to avoid numerical errors\n",
    "for i in range(mpc_MSMPR.settings.n_horizon+1):\n",
    "    for b in range(mpc_MSMPR.n_combinations):\n",
    "        mpc_MSMPR.opt_x_num['_x',i,b] = ca.DM([350, 320, 0.23, 4e-4, 1e0, 1e-3, 1e-6])\n",
    "        if i<mpc_MSMPR.settings.n_horizon:\n",
    "            mpc_MSMPR.opt_x_num['_u',i,b] = ca.DM([350, 1.0, 0.1])\n",
    "\n",
    "x0 = simulator_MSMPR.x0\n",
    "u0 = simulator_MSMPR.u0\n",
    "\n",
    "x0['T'] = T_feed0\n",
    "x0['T_j'] = T_feed0\n",
    "x0['c'] = c_feed0+1e-5 # Small value added to avoid numerical error\n",
    "x0['mu'] = mu_initial\n",
    "\n",
    "u0['T_j_in'] = 300\n",
    "u0['F_j'] = 0.3\n",
    "u0['F_feed'] = 0.2\n",
    "\n",
    "\n",
    "t_sim = 50\n",
    "x_next = x0.cat\n",
    "\n",
    "time1 = time.perf_counter()\n",
    "\n",
    "for t in range(t_sim):\n",
    "    print(t)\n",
    "    # Data based model\n",
    "    mpc_x = functions.MPC_input(x_next) \n",
    "    u0 = mpc_MSMPR.make_step(mpc_x)\n",
    "\n",
    "\n",
    "    # Simulate physical model\n",
    "    x_next = simulator_MSMPR.make_step(u0)\n",
    "\n",
    "time2 = time.perf_counter()\n",
    "\n",
    "print(time2-time1)\n",
    "do_mpc.data.save_results([mpc_MSMPR, simulator_MSMPR], 'MSMPR')"
   ]
  },
  {
   "cell_type": "code",
   "execution_count": null,
   "metadata": {},
   "outputs": [],
   "source": [
    "results = do_mpc.data.load_results('./results/MSMPR_BLL_100_5.pkl')\n",
    "mpc_MSMPR = results['mpc']\n",
    "print('Succesfull steps:', np.count_nonzero(mpc_MSMPR.success), '/', len(mpc_MSMPR.success))\n",
    "x = results['mpc']['_aux','L43_cost']\n",
    "\n",
    "plt.plot(x)"
   ]
  }
 ],
 "metadata": {
  "kernelspec": {
   "display_name": "base",
   "language": "python",
   "name": "python3"
  },
  "language_info": {
   "codemirror_mode": {
    "name": "ipython",
    "version": 3
   },
   "file_extension": ".py",
   "mimetype": "text/x-python",
   "name": "python",
   "nbconvert_exporter": "python",
   "pygments_lexer": "ipython3",
   "version": "3.10.10"
  }
 },
 "nbformat": 4,
 "nbformat_minor": 2
}
